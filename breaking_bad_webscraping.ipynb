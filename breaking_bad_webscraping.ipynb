{
  "nbformat": 4,
  "nbformat_minor": 0,
  "metadata": {
    "colab": {
      "name": "breaking bad - webscraping",
      "provenance": [],
      "include_colab_link": true
    },
    "kernelspec": {
      "name": "python3",
      "display_name": "Python 3"
    }
  },
  "cells": [
    {
      "cell_type": "markdown",
      "metadata": {
        "id": "view-in-github",
        "colab_type": "text"
      },
      "source": [
        "<a href=\"https://colab.research.google.com/github/eliasnetoDS/Breaking-Bad---Webscraping/blob/main/breaking_bad_webscraping.ipynb\" target=\"_parent\"><img src=\"https://colab.research.google.com/assets/colab-badge.svg\" alt=\"Open In Colab\"/></a>"
      ]
    },
    {
      "cell_type": "markdown",
      "source": [
        "**Vamos acessar o link da página de avaliações da Série Breaking Bad no Site IMDB**"
      ],
      "metadata": {
        "id": "1Uaw4E_5LWzc"
      }
    },
    {
      "cell_type": "code",
      "metadata": {
        "id": "8vzSqe8ztAnZ"
      },
      "source": [
        "from requests import get\n",
        "url = 'https://www.imdb.com/title/tt0903747/episodes?season=1'    #aqui estamos acessando a primeira temporada da séire\n",
        "response = get(url)\n",
        "print(response.text[:250])"
      ],
      "execution_count": null,
      "outputs": []
    },
    {
      "cell_type": "code",
      "metadata": {
        "id": "f_aS4IzPzxhG"
      },
      "source": [
        "from bs4 import BeautifulSoup                       #criação de um objeto beautifulsoup-não sei o que significa\n",
        "\n",
        "html_soup = BeautifulSoup(response.text, 'html.parser')\n",
        "type(html_soup)               "
      ],
      "execution_count": null,
      "outputs": []
    },
    {
      "cell_type": "code",
      "metadata": {
        "id": "KRkpK8PV0137"
      },
      "source": [
        "episode_containers = html_soup.find_all('div', class_='info')"
      ],
      "execution_count": null,
      "outputs": []
    },
    {
      "cell_type": "code",
      "metadata": {
        "colab": {
          "base_uri": "https://localhost:8080/",
          "height": 35
        },
        "id": "R2hLvPmS20v4",
        "outputId": "e8481be2-143b-41da-a9a7-3f7f389a753d"
      },
      "source": [
        "episode_containers[0].a['title']        #título do episódio"
      ],
      "execution_count": null,
      "outputs": [
        {
          "output_type": "execute_result",
          "data": {
            "application/vnd.google.colaboratory.intrinsic+json": {
              "type": "string"
            },
            "text/plain": [
              "'Pilot'"
            ]
          },
          "metadata": {
            "tags": []
          },
          "execution_count": 5
        }
      ]
    },
    {
      "cell_type": "code",
      "metadata": {
        "colab": {
          "base_uri": "https://localhost:8080/",
          "height": 35
        },
        "id": "SKcvNbuZ4Cr7",
        "outputId": "d57dce79-daa9-4e65-bd81-8506176e8f95"
      },
      "source": [
        "episode_containers[0].meta['content']           #número do episódio"
      ],
      "execution_count": null,
      "outputs": [
        {
          "output_type": "execute_result",
          "data": {
            "application/vnd.google.colaboratory.intrinsic+json": {
              "type": "string"
            },
            "text/plain": [
              "'1'"
            ]
          },
          "metadata": {
            "tags": []
          },
          "execution_count": 6
        }
      ]
    },
    {
      "cell_type": "code",
      "metadata": {
        "colab": {
          "base_uri": "https://localhost:8080/",
          "height": 35
        },
        "id": "Ag7R-MS24OFk",
        "outputId": "e957616f-b56d-4d39-e40f-67145e909911"
      },
      "source": [
        "episode_containers[0].find('div', class_='airdate').text.strip()   #ano do episódio no ar"
      ],
      "execution_count": null,
      "outputs": [
        {
          "output_type": "execute_result",
          "data": {
            "application/vnd.google.colaboratory.intrinsic+json": {
              "type": "string"
            },
            "text/plain": [
              "'20 Jan. 2008'"
            ]
          },
          "metadata": {
            "tags": []
          },
          "execution_count": 7
        }
      ]
    },
    {
      "cell_type": "code",
      "metadata": {
        "colab": {
          "base_uri": "https://localhost:8080/",
          "height": 35
        },
        "id": "3gx-1WpS40BQ",
        "outputId": "5ec50470-f3ad-443d-9389-ee89367c9c4c"
      },
      "source": [
        "episode_containers[0].find('span', class_='ipl-rating-star__rating').text   #nota no imdb - classificação"
      ],
      "execution_count": null,
      "outputs": [
        {
          "output_type": "execute_result",
          "data": {
            "application/vnd.google.colaboratory.intrinsic+json": {
              "type": "string"
            },
            "text/plain": [
              "'9.1'"
            ]
          },
          "metadata": {
            "tags": []
          },
          "execution_count": 8
        }
      ]
    },
    {
      "cell_type": "code",
      "metadata": {
        "colab": {
          "base_uri": "https://localhost:8080/",
          "height": 35
        },
        "id": "fUGMU2Vc-S01",
        "outputId": "8659a23e-2e16-4464-c518-37279fac9e9a"
      },
      "source": [
        "episode_containers[0].find('span', class_='ipl-rating-star__total-votes').text   #total de votos"
      ],
      "execution_count": null,
      "outputs": [
        {
          "output_type": "execute_result",
          "data": {
            "application/vnd.google.colaboratory.intrinsic+json": {
              "type": "string"
            },
            "text/plain": [
              "'(25,865)'"
            ]
          },
          "metadata": {
            "tags": []
          },
          "execution_count": 9
        }
      ]
    },
    {
      "cell_type": "code",
      "metadata": {
        "colab": {
          "base_uri": "https://localhost:8080/",
          "height": 35
        },
        "id": "Li3xUsGQkQ6w",
        "outputId": "cd39f1c4-d0ed-4637-a578-f1f5901b253e"
      },
      "source": [
        "episode_containers[0].find('div', class_='item_description').text.strip()"
      ],
      "execution_count": null,
      "outputs": [
        {
          "output_type": "execute_result",
          "data": {
            "application/vnd.google.colaboratory.intrinsic+json": {
              "type": "string"
            },
            "text/plain": [
              "'Diagnosed with terminal lung cancer, chemistry teacher Walter White teams up with former student Jesse Pinkman to cook and sell crystal meth.'"
            ]
          },
          "metadata": {
            "tags": []
          },
          "execution_count": 10
        }
      ]
    },
    {
      "cell_type": "markdown",
      "source": [
        "**VAMOS RODAR TODOS OS PASSOS ANTERIORES**"
      ],
      "metadata": {
        "id": "j1ZyS5KuLjii"
      }
    },
    {
      "cell_type": "code",
      "metadata": {
        "id": "UuQK_TuvkS3u"
      },
      "source": [
        "# Initializing the series that the loop will populate\n",
        "community_episodes = []\n",
        "\n",
        "# Aqui o contador vai variar de 1 até a quantidade de temporadas + 1\n",
        "for sn in range(1,6):\n",
        "    # Request from the server the content of the web page by using get(), and store the server’s response in the variable response\n",
        "    response = get('https://www.imdb.com/title/tt0903747/episodes?season=' + str(sn))\n",
        "\n",
        "    # Parse the content of the request with BeautifulSoup\n",
        "    page_html = BeautifulSoup(response.text, 'html.parser')\n",
        "\n",
        "    # Select all the episode containers from the season's page\n",
        "    episode_containers = page_html.find_all('div', class_ = 'info')\n",
        "\n",
        "    # For each episode in each season\n",
        "    for episodes in episode_containers:\n",
        "            # Get the info of each episode on the page\n",
        "            season = sn\n",
        "            episode_number = episodes.meta['content']\n",
        "            title = episodes.a['title']\n",
        "            airdate = episodes.find('div', class_='airdate').text.strip()\n",
        "            rating = episodes.find('span', class_='ipl-rating-star__rating').text\n",
        "            total_votes = episodes.find('span', class_='ipl-rating-star__total-votes').text\n",
        "            desc = episodes.find('div', class_='item_description').text.strip()\n",
        "            # Compiling the episode info\n",
        "            episode_data = [season, episode_number, title, airdate, rating, total_votes, desc]\n",
        "\n",
        "            # Append the episode info to the complete dataset\n",
        "            community_episodes.append(episode_data)\n",
        "\n",
        "\n"
      ],
      "execution_count": null,
      "outputs": []
    },
    {
      "cell_type": "code",
      "metadata": {
        "colab": {
          "base_uri": "https://localhost:8080/",
          "height": 206
        },
        "id": "YpszaqyJlMoG",
        "outputId": "1a9b14a3-bacb-400d-9a09-27e1e90f1427"
      },
      "source": [
        "#criando um dataframe\n",
        "\n",
        "import pandas as pd \n",
        "community_episodes = pd.DataFrame(community_episodes, columns = ['season', 'episode_number', 'title', 'airdate', 'rating', 'total_votes', 'desc'])\n",
        "\n",
        "community_episodes.head()"
      ],
      "execution_count": null,
      "outputs": [
        {
          "output_type": "execute_result",
          "data": {
            "text/plain": [
              "   season episode_number                          title       airdate rating  \\\n",
              "0       1              1                          Pilot  20 Jan. 2008    9.0   \n",
              "1       1              2            Cat's in the Bag...  27 Jan. 2008    8.6   \n",
              "2       1              3  ...And the Bag's in the River  10 Feb. 2008    8.7   \n",
              "3       1              4                     Cancer Man  17 Feb. 2008    8.2   \n",
              "4       1              5                    Gray Matter  24 Feb. 2008    8.3   \n",
              "\n",
              "  total_votes                                               desc  \n",
              "0    (32,227)  Diagnosed with terminal lung cancer, chemistry...  \n",
              "1    (23,576)  After their first drug deal goes terribly wron...  \n",
              "2    (22,871)  Walt and Jesse clean up after the bathtub inci...  \n",
              "3    (22,082)  Walt tells the rest of his family about his ca...  \n",
              "4    (21,685)  Walt rejects everyone who tries to help him wi...  "
            ],
            "text/html": [
              "\n",
              "  <div id=\"df-1ac716a6-fe1c-44ee-a01b-7c060e7a54aa\">\n",
              "    <div class=\"colab-df-container\">\n",
              "      <div>\n",
              "<style scoped>\n",
              "    .dataframe tbody tr th:only-of-type {\n",
              "        vertical-align: middle;\n",
              "    }\n",
              "\n",
              "    .dataframe tbody tr th {\n",
              "        vertical-align: top;\n",
              "    }\n",
              "\n",
              "    .dataframe thead th {\n",
              "        text-align: right;\n",
              "    }\n",
              "</style>\n",
              "<table border=\"1\" class=\"dataframe\">\n",
              "  <thead>\n",
              "    <tr style=\"text-align: right;\">\n",
              "      <th></th>\n",
              "      <th>season</th>\n",
              "      <th>episode_number</th>\n",
              "      <th>title</th>\n",
              "      <th>airdate</th>\n",
              "      <th>rating</th>\n",
              "      <th>total_votes</th>\n",
              "      <th>desc</th>\n",
              "    </tr>\n",
              "  </thead>\n",
              "  <tbody>\n",
              "    <tr>\n",
              "      <th>0</th>\n",
              "      <td>1</td>\n",
              "      <td>1</td>\n",
              "      <td>Pilot</td>\n",
              "      <td>20 Jan. 2008</td>\n",
              "      <td>9.0</td>\n",
              "      <td>(32,227)</td>\n",
              "      <td>Diagnosed with terminal lung cancer, chemistry...</td>\n",
              "    </tr>\n",
              "    <tr>\n",
              "      <th>1</th>\n",
              "      <td>1</td>\n",
              "      <td>2</td>\n",
              "      <td>Cat's in the Bag...</td>\n",
              "      <td>27 Jan. 2008</td>\n",
              "      <td>8.6</td>\n",
              "      <td>(23,576)</td>\n",
              "      <td>After their first drug deal goes terribly wron...</td>\n",
              "    </tr>\n",
              "    <tr>\n",
              "      <th>2</th>\n",
              "      <td>1</td>\n",
              "      <td>3</td>\n",
              "      <td>...And the Bag's in the River</td>\n",
              "      <td>10 Feb. 2008</td>\n",
              "      <td>8.7</td>\n",
              "      <td>(22,871)</td>\n",
              "      <td>Walt and Jesse clean up after the bathtub inci...</td>\n",
              "    </tr>\n",
              "    <tr>\n",
              "      <th>3</th>\n",
              "      <td>1</td>\n",
              "      <td>4</td>\n",
              "      <td>Cancer Man</td>\n",
              "      <td>17 Feb. 2008</td>\n",
              "      <td>8.2</td>\n",
              "      <td>(22,082)</td>\n",
              "      <td>Walt tells the rest of his family about his ca...</td>\n",
              "    </tr>\n",
              "    <tr>\n",
              "      <th>4</th>\n",
              "      <td>1</td>\n",
              "      <td>5</td>\n",
              "      <td>Gray Matter</td>\n",
              "      <td>24 Feb. 2008</td>\n",
              "      <td>8.3</td>\n",
              "      <td>(21,685)</td>\n",
              "      <td>Walt rejects everyone who tries to help him wi...</td>\n",
              "    </tr>\n",
              "  </tbody>\n",
              "</table>\n",
              "</div>\n",
              "      <button class=\"colab-df-convert\" onclick=\"convertToInteractive('df-1ac716a6-fe1c-44ee-a01b-7c060e7a54aa')\"\n",
              "              title=\"Convert this dataframe to an interactive table.\"\n",
              "              style=\"display:none;\">\n",
              "        \n",
              "  <svg xmlns=\"http://www.w3.org/2000/svg\" height=\"24px\"viewBox=\"0 0 24 24\"\n",
              "       width=\"24px\">\n",
              "    <path d=\"M0 0h24v24H0V0z\" fill=\"none\"/>\n",
              "    <path d=\"M18.56 5.44l.94 2.06.94-2.06 2.06-.94-2.06-.94-.94-2.06-.94 2.06-2.06.94zm-11 1L8.5 8.5l.94-2.06 2.06-.94-2.06-.94L8.5 2.5l-.94 2.06-2.06.94zm10 10l.94 2.06.94-2.06 2.06-.94-2.06-.94-.94-2.06-.94 2.06-2.06.94z\"/><path d=\"M17.41 7.96l-1.37-1.37c-.4-.4-.92-.59-1.43-.59-.52 0-1.04.2-1.43.59L10.3 9.45l-7.72 7.72c-.78.78-.78 2.05 0 2.83L4 21.41c.39.39.9.59 1.41.59.51 0 1.02-.2 1.41-.59l7.78-7.78 2.81-2.81c.8-.78.8-2.07 0-2.86zM5.41 20L4 18.59l7.72-7.72 1.47 1.35L5.41 20z\"/>\n",
              "  </svg>\n",
              "      </button>\n",
              "      \n",
              "  <style>\n",
              "    .colab-df-container {\n",
              "      display:flex;\n",
              "      flex-wrap:wrap;\n",
              "      gap: 12px;\n",
              "    }\n",
              "\n",
              "    .colab-df-convert {\n",
              "      background-color: #E8F0FE;\n",
              "      border: none;\n",
              "      border-radius: 50%;\n",
              "      cursor: pointer;\n",
              "      display: none;\n",
              "      fill: #1967D2;\n",
              "      height: 32px;\n",
              "      padding: 0 0 0 0;\n",
              "      width: 32px;\n",
              "    }\n",
              "\n",
              "    .colab-df-convert:hover {\n",
              "      background-color: #E2EBFA;\n",
              "      box-shadow: 0px 1px 2px rgba(60, 64, 67, 0.3), 0px 1px 3px 1px rgba(60, 64, 67, 0.15);\n",
              "      fill: #174EA6;\n",
              "    }\n",
              "\n",
              "    [theme=dark] .colab-df-convert {\n",
              "      background-color: #3B4455;\n",
              "      fill: #D2E3FC;\n",
              "    }\n",
              "\n",
              "    [theme=dark] .colab-df-convert:hover {\n",
              "      background-color: #434B5C;\n",
              "      box-shadow: 0px 1px 3px 1px rgba(0, 0, 0, 0.15);\n",
              "      filter: drop-shadow(0px 1px 2px rgba(0, 0, 0, 0.3));\n",
              "      fill: #FFFFFF;\n",
              "    }\n",
              "  </style>\n",
              "\n",
              "      <script>\n",
              "        const buttonEl =\n",
              "          document.querySelector('#df-1ac716a6-fe1c-44ee-a01b-7c060e7a54aa button.colab-df-convert');\n",
              "        buttonEl.style.display =\n",
              "          google.colab.kernel.accessAllowed ? 'block' : 'none';\n",
              "\n",
              "        async function convertToInteractive(key) {\n",
              "          const element = document.querySelector('#df-1ac716a6-fe1c-44ee-a01b-7c060e7a54aa');\n",
              "          const dataTable =\n",
              "            await google.colab.kernel.invokeFunction('convertToInteractive',\n",
              "                                                     [key], {});\n",
              "          if (!dataTable) return;\n",
              "\n",
              "          const docLinkHtml = 'Like what you see? Visit the ' +\n",
              "            '<a target=\"_blank\" href=https://colab.research.google.com/notebooks/data_table.ipynb>data table notebook</a>'\n",
              "            + ' to learn more about interactive tables.';\n",
              "          element.innerHTML = '';\n",
              "          dataTable['output_type'] = 'display_data';\n",
              "          await google.colab.output.renderOutput(dataTable, element);\n",
              "          const docLink = document.createElement('div');\n",
              "          docLink.innerHTML = docLinkHtml;\n",
              "          element.appendChild(docLink);\n",
              "        }\n",
              "      </script>\n",
              "    </div>\n",
              "  </div>\n",
              "  "
            ]
          },
          "metadata": {},
          "execution_count": 12
        }
      ]
    },
    {
      "cell_type": "markdown",
      "metadata": {
        "id": "42btDJIIlikV"
      },
      "source": [
        "**NESSA PRÓXIMA FASE VAMOS FAZER UMA LIMPEZA DOS DADOS**\n",
        "\n",
        "**CONVERTER O TOTAL DE VOTOS QUE AGORA ESTÁ COMO TEXTO**"
      ]
    },
    {
      "cell_type": "code",
      "metadata": {
        "colab": {
          "base_uri": "https://localhost:8080/",
          "height": 206
        },
        "id": "RmKoqYSNl0J-",
        "outputId": "df99d938-6088-4801-eddf-f68e17a29450"
      },
      "source": [
        "def remove_str(votes):\n",
        "    for r in ((',',''), ('(',''),(')','')):\n",
        "        votes = votes.replace(*r)\n",
        "        \n",
        "    return votes\n",
        "\n",
        "\n",
        "    community_episodes['total_votes'] = community_episodes.total_votes.apply(remove_str).astype(int)\n",
        "\n",
        "community_episodes.head()"
      ],
      "execution_count": null,
      "outputs": [
        {
          "output_type": "execute_result",
          "data": {
            "text/plain": [
              "   season episode_number                          title       airdate rating  \\\n",
              "0       1              1                          Pilot  20 Jan. 2008    9.0   \n",
              "1       1              2            Cat's in the Bag...  27 Jan. 2008    8.6   \n",
              "2       1              3  ...And the Bag's in the River  10 Feb. 2008    8.7   \n",
              "3       1              4                     Cancer Man  17 Feb. 2008    8.2   \n",
              "4       1              5                    Gray Matter  24 Feb. 2008    8.3   \n",
              "\n",
              "  total_votes                                               desc  \n",
              "0    (32,227)  Diagnosed with terminal lung cancer, chemistry...  \n",
              "1    (23,576)  After their first drug deal goes terribly wron...  \n",
              "2    (22,871)  Walt and Jesse clean up after the bathtub inci...  \n",
              "3    (22,082)  Walt tells the rest of his family about his ca...  \n",
              "4    (21,685)  Walt rejects everyone who tries to help him wi...  "
            ],
            "text/html": [
              "\n",
              "  <div id=\"df-7c47979d-f803-4a16-9df2-6ad33f35a797\">\n",
              "    <div class=\"colab-df-container\">\n",
              "      <div>\n",
              "<style scoped>\n",
              "    .dataframe tbody tr th:only-of-type {\n",
              "        vertical-align: middle;\n",
              "    }\n",
              "\n",
              "    .dataframe tbody tr th {\n",
              "        vertical-align: top;\n",
              "    }\n",
              "\n",
              "    .dataframe thead th {\n",
              "        text-align: right;\n",
              "    }\n",
              "</style>\n",
              "<table border=\"1\" class=\"dataframe\">\n",
              "  <thead>\n",
              "    <tr style=\"text-align: right;\">\n",
              "      <th></th>\n",
              "      <th>season</th>\n",
              "      <th>episode_number</th>\n",
              "      <th>title</th>\n",
              "      <th>airdate</th>\n",
              "      <th>rating</th>\n",
              "      <th>total_votes</th>\n",
              "      <th>desc</th>\n",
              "    </tr>\n",
              "  </thead>\n",
              "  <tbody>\n",
              "    <tr>\n",
              "      <th>0</th>\n",
              "      <td>1</td>\n",
              "      <td>1</td>\n",
              "      <td>Pilot</td>\n",
              "      <td>20 Jan. 2008</td>\n",
              "      <td>9.0</td>\n",
              "      <td>(32,227)</td>\n",
              "      <td>Diagnosed with terminal lung cancer, chemistry...</td>\n",
              "    </tr>\n",
              "    <tr>\n",
              "      <th>1</th>\n",
              "      <td>1</td>\n",
              "      <td>2</td>\n",
              "      <td>Cat's in the Bag...</td>\n",
              "      <td>27 Jan. 2008</td>\n",
              "      <td>8.6</td>\n",
              "      <td>(23,576)</td>\n",
              "      <td>After their first drug deal goes terribly wron...</td>\n",
              "    </tr>\n",
              "    <tr>\n",
              "      <th>2</th>\n",
              "      <td>1</td>\n",
              "      <td>3</td>\n",
              "      <td>...And the Bag's in the River</td>\n",
              "      <td>10 Feb. 2008</td>\n",
              "      <td>8.7</td>\n",
              "      <td>(22,871)</td>\n",
              "      <td>Walt and Jesse clean up after the bathtub inci...</td>\n",
              "    </tr>\n",
              "    <tr>\n",
              "      <th>3</th>\n",
              "      <td>1</td>\n",
              "      <td>4</td>\n",
              "      <td>Cancer Man</td>\n",
              "      <td>17 Feb. 2008</td>\n",
              "      <td>8.2</td>\n",
              "      <td>(22,082)</td>\n",
              "      <td>Walt tells the rest of his family about his ca...</td>\n",
              "    </tr>\n",
              "    <tr>\n",
              "      <th>4</th>\n",
              "      <td>1</td>\n",
              "      <td>5</td>\n",
              "      <td>Gray Matter</td>\n",
              "      <td>24 Feb. 2008</td>\n",
              "      <td>8.3</td>\n",
              "      <td>(21,685)</td>\n",
              "      <td>Walt rejects everyone who tries to help him wi...</td>\n",
              "    </tr>\n",
              "  </tbody>\n",
              "</table>\n",
              "</div>\n",
              "      <button class=\"colab-df-convert\" onclick=\"convertToInteractive('df-7c47979d-f803-4a16-9df2-6ad33f35a797')\"\n",
              "              title=\"Convert this dataframe to an interactive table.\"\n",
              "              style=\"display:none;\">\n",
              "        \n",
              "  <svg xmlns=\"http://www.w3.org/2000/svg\" height=\"24px\"viewBox=\"0 0 24 24\"\n",
              "       width=\"24px\">\n",
              "    <path d=\"M0 0h24v24H0V0z\" fill=\"none\"/>\n",
              "    <path d=\"M18.56 5.44l.94 2.06.94-2.06 2.06-.94-2.06-.94-.94-2.06-.94 2.06-2.06.94zm-11 1L8.5 8.5l.94-2.06 2.06-.94-2.06-.94L8.5 2.5l-.94 2.06-2.06.94zm10 10l.94 2.06.94-2.06 2.06-.94-2.06-.94-.94-2.06-.94 2.06-2.06.94z\"/><path d=\"M17.41 7.96l-1.37-1.37c-.4-.4-.92-.59-1.43-.59-.52 0-1.04.2-1.43.59L10.3 9.45l-7.72 7.72c-.78.78-.78 2.05 0 2.83L4 21.41c.39.39.9.59 1.41.59.51 0 1.02-.2 1.41-.59l7.78-7.78 2.81-2.81c.8-.78.8-2.07 0-2.86zM5.41 20L4 18.59l7.72-7.72 1.47 1.35L5.41 20z\"/>\n",
              "  </svg>\n",
              "      </button>\n",
              "      \n",
              "  <style>\n",
              "    .colab-df-container {\n",
              "      display:flex;\n",
              "      flex-wrap:wrap;\n",
              "      gap: 12px;\n",
              "    }\n",
              "\n",
              "    .colab-df-convert {\n",
              "      background-color: #E8F0FE;\n",
              "      border: none;\n",
              "      border-radius: 50%;\n",
              "      cursor: pointer;\n",
              "      display: none;\n",
              "      fill: #1967D2;\n",
              "      height: 32px;\n",
              "      padding: 0 0 0 0;\n",
              "      width: 32px;\n",
              "    }\n",
              "\n",
              "    .colab-df-convert:hover {\n",
              "      background-color: #E2EBFA;\n",
              "      box-shadow: 0px 1px 2px rgba(60, 64, 67, 0.3), 0px 1px 3px 1px rgba(60, 64, 67, 0.15);\n",
              "      fill: #174EA6;\n",
              "    }\n",
              "\n",
              "    [theme=dark] .colab-df-convert {\n",
              "      background-color: #3B4455;\n",
              "      fill: #D2E3FC;\n",
              "    }\n",
              "\n",
              "    [theme=dark] .colab-df-convert:hover {\n",
              "      background-color: #434B5C;\n",
              "      box-shadow: 0px 1px 3px 1px rgba(0, 0, 0, 0.15);\n",
              "      filter: drop-shadow(0px 1px 2px rgba(0, 0, 0, 0.3));\n",
              "      fill: #FFFFFF;\n",
              "    }\n",
              "  </style>\n",
              "\n",
              "      <script>\n",
              "        const buttonEl =\n",
              "          document.querySelector('#df-7c47979d-f803-4a16-9df2-6ad33f35a797 button.colab-df-convert');\n",
              "        buttonEl.style.display =\n",
              "          google.colab.kernel.accessAllowed ? 'block' : 'none';\n",
              "\n",
              "        async function convertToInteractive(key) {\n",
              "          const element = document.querySelector('#df-7c47979d-f803-4a16-9df2-6ad33f35a797');\n",
              "          const dataTable =\n",
              "            await google.colab.kernel.invokeFunction('convertToInteractive',\n",
              "                                                     [key], {});\n",
              "          if (!dataTable) return;\n",
              "\n",
              "          const docLinkHtml = 'Like what you see? Visit the ' +\n",
              "            '<a target=\"_blank\" href=https://colab.research.google.com/notebooks/data_table.ipynb>data table notebook</a>'\n",
              "            + ' to learn more about interactive tables.';\n",
              "          element.innerHTML = '';\n",
              "          dataTable['output_type'] = 'display_data';\n",
              "          await google.colab.output.renderOutput(dataTable, element);\n",
              "          const docLink = document.createElement('div');\n",
              "          docLink.innerHTML = docLinkHtml;\n",
              "          element.appendChild(docLink);\n",
              "        }\n",
              "      </script>\n",
              "    </div>\n",
              "  </div>\n",
              "  "
            ]
          },
          "metadata": {},
          "execution_count": 6
        }
      ]
    },
    {
      "cell_type": "markdown",
      "metadata": {
        "id": "uGjej-htmvIw"
      },
      "source": [
        "**TRANSFORMAR EM NÚMEROS REAIS A AVALIAÇÃO QUE AGORA ESTÁ NO FORMATO DE TEXTO**"
      ]
    },
    {
      "cell_type": "code",
      "metadata": {
        "id": "zKZRHPrcm8Wm"
      },
      "source": [
        "community_episodes['rating'] = community_episodes.rating.astype(float)"
      ],
      "execution_count": null,
      "outputs": []
    },
    {
      "cell_type": "markdown",
      "metadata": {
        "id": "6R1_Bphan56H"
      },
      "source": [
        "**Convertendo a data de transmissão de string em data e hora**"
      ]
    },
    {
      "cell_type": "code",
      "metadata": {
        "id": "elVa8szJn-vf",
        "colab": {
          "base_uri": "https://localhost:8080/"
        },
        "outputId": "1d4d316e-4e3b-4b34-ebfa-6e3e4efc5a4d"
      },
      "source": [
        "community_episodes['airdate'] = pd.to_datetime(community_episodes.airdate)\n",
        "\n",
        "community_episodes.info()"
      ],
      "execution_count": null,
      "outputs": [
        {
          "output_type": "stream",
          "name": "stdout",
          "text": [
            "<class 'pandas.core.frame.DataFrame'>\n",
            "RangeIndex: 62 entries, 0 to 61\n",
            "Data columns (total 7 columns):\n",
            " #   Column          Non-Null Count  Dtype         \n",
            "---  ------          --------------  -----         \n",
            " 0   season          62 non-null     int64         \n",
            " 1   episode_number  62 non-null     object        \n",
            " 2   title           62 non-null     object        \n",
            " 3   airdate         62 non-null     datetime64[ns]\n",
            " 4   rating          62 non-null     object        \n",
            " 5   total_votes     62 non-null     object        \n",
            " 6   desc            62 non-null     object        \n",
            "dtypes: datetime64[ns](1), int64(1), object(5)\n",
            "memory usage: 3.5+ KB\n"
          ]
        }
      ]
    },
    {
      "cell_type": "markdown",
      "source": [
        "**É HORA DE SALVAR O ARQUIVO**\n"
      ],
      "metadata": {
        "id": "F623AfURLSjA"
      }
    },
    {
      "cell_type": "code",
      "metadata": {
        "id": "ZVPbpTykojyO"
      },
      "source": [
        "community_episodes.to_csv('breakingbad.csv',index=False)"
      ],
      "execution_count": null,
      "outputs": []
    },
    {
      "cell_type": "code",
      "metadata": {
        "colab": {
          "base_uri": "https://localhost:8080/"
        },
        "id": "Q2mge-2rYH6d",
        "outputId": "042ed55c-b945-40e0-b09e-77ef55321515"
      },
      "source": [
        "from google.colab import drive\n",
        "drive.mount('/content/drive')"
      ],
      "execution_count": null,
      "outputs": [
        {
          "output_type": "stream",
          "name": "stdout",
          "text": [
            "Mounted at /content/drive\n"
          ]
        }
      ]
    }
  ]
}